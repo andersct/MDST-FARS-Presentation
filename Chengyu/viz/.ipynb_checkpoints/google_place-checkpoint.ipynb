{
 "cells": [
  {
   "cell_type": "code",
   "execution_count": 1,
   "metadata": {
    "collapsed": false
   },
   "outputs": [],
   "source": [
    "import simplejson as json\n",
    "with open('../../external_data/google_place/total_place.json','r') as f_in:\n",
    "    data = json.loads(f_in.readline())"
   ]
  },
  {
   "cell_type": "markdown",
   "metadata": {},
   "source": [
    "# Google place - The open-access ultimate external data"
   ]
  },
  {
   "cell_type": "code",
   "execution_count": 2,
   "metadata": {
    "collapsed": false
   },
   "outputs": [
    {
     "data": {
      "text/plain": [
       "{'html_attributions': [],\n",
       " 'next_page_token': 'CrQCJgEAALogR0B5thMR7GFGZhvtySeyfabEmI3umRFoUks4kH0l5aioxFwVxQUO5wQqbUjJqTtokD3SZOtGTQ43zq-50j12FtfvGlJ_dQ_o-k_J2YtJhMKwtFqfa1iYA6BH1Mi60GdPr4zIMVt-o5jIMTFbTX0s_qUTWk0HlE0yGw3bL8EhAsSVPRzLl-OkiOrCWg31WB6Lgd9qplsHSPrg8AsPRbFYHF5lXVlE54la3ACwOnCh-j6OJxf0Xd5oVQYk1MnYLH3nzHLzUe2xCB9p3aR30nuSLXkJod56vfA9AKBdA8k-LpAGuhmoaSbnirSz9Oq9RiCGBQN9VvbkJm3HmBeyKra8hvVqswsbznQfnb0MgHa1B8RV4rRUpAfe-1iSLlnVbe20jBuApsAbLPTBAxhfegMSEL_CYeP1-5D8AOXBPcE9ud0aFDAtVET-cfMwC0YLHXMnXX4UsY6-',\n",
       " 'results': [{'geometry': {'location': {'lat': 34.6703624,\n",
       "     'lng': -86.0185903}},\n",
       "   'icon': 'https://maps.gstatic.com/mapfiles/place_api/icons/school-71.png',\n",
       "   'id': '6bb31d338f225a408c803f7f48cf2cb2f8639d8b',\n",
       "   'name': 'Brownwood Elementary School',\n",
       "   'place_id': 'ChIJu9ZGLNHuYYgRFKDDc9BTZ_4',\n",
       "   'reference': 'CnRvAAAASiXQ7y7ux3F-xKTnDKRT8nZ6vrERq4lworoKBwAYo9SnTtk6XiJIN2mcdPezD10spamk0sagCIzK1urA1FPfUv9sSK4ZyT5LmH3Cz2iml40Z5FG7bTGF1jMrcZQyueoWPphvwYFGoJJuUT29zhf4IBIQi56jwS1OtCPX4mRydrKVRBoUM1nR8FfYbzHLtMvqPVh3m93tnVM',\n",
       "   'scope': 'GOOGLE',\n",
       "   'types': ['school', 'point_of_interest', 'establishment'],\n",
       "   'vicinity': '305 Bingham Street, Scottsboro'},\n",
       "  {'geometry': {'location': {'lat': 34.67266389999999, 'lng': -86.0027441}},\n",
       "   'icon': 'https://maps.gstatic.com/mapfiles/place_api/icons/school-71.png',\n",
       "   'id': '7a01369563d32bcbef65c0d8b92ee18577c00e72',\n",
       "   'name': 'Scottsboro High School',\n",
       "   'place_id': 'ChIJNS4NLi7pYYgRRNUDInIgLVA',\n",
       "   'reference': 'CnRpAAAAPLmWXEu_7F7KSKnLss5DHqH4uOYfK77sfRkiE8WXnECS76dOvzyYcT9CAfz8uMMuenkRCDcjdoGnCOOOD5c4BsxvkD8YFhfK-UNwWS1NbdR7f5MnPtSy9jT7IuK6xbTkujLrNcahy7ihIsoqDHpokBIQeQ2-UbA947ozB1UtkVDSIRoUhG0PaODxm-IZWyjdViw-3-rA2uc',\n",
       "   'scope': 'GOOGLE',\n",
       "   'types': ['school', 'point_of_interest', 'establishment'],\n",
       "   'vicinity': '25053 John T Reid Parkway, Scottsboro'},\n",
       "  {'geometry': {'location': {'lat': 34.6502909, 'lng': -86.0390437}},\n",
       "   'icon': 'https://maps.gstatic.com/mapfiles/place_api/icons/school-71.png',\n",
       "   'id': '4a9722415a42933f2e567e216c5972f51c408c5f',\n",
       "   'name': 'Collins Elementary School',\n",
       "   'place_id': 'ChIJXSk-vRbvYYgRNKd43Rt0Dr0',\n",
       "   'reference': 'CnRtAAAAFl6kXsivh4o19FY19uDm9z42mDCos1f3ATIwBfAEX7v8E-lxUsDKeGuMm7pW69DV-PCm02D9p0FP83weR-mL2GnsZkBCx7DNbUOlg-kGHCtoDmyATRBSw16eulYo2QcJ186kVVp4UM5o8iepUAVSuRIQ_fYAac4_Vr1Z4m3vtL2chhoU823CHAnmBPADE9timwZyCWC81Ro',\n",
       "   'scope': 'GOOGLE',\n",
       "   'types': ['school', 'point_of_interest', 'establishment'],\n",
       "   'vicinity': '102 Legion Street, Scottsboro'},\n",
       "  {'geometry': {'location': {'lat': 34.6598071, 'lng': -86.03275719999999}},\n",
       "   'icon': 'https://maps.gstatic.com/mapfiles/place_api/icons/school-71.png',\n",
       "   'id': '036b74499526b7ee78c7ce13ea080ec2c87e5052',\n",
       "   'name': 'Caldwell Elementary School',\n",
       "   'place_id': 'ChIJV-evqxjvYYgRkulYrvRn0fE',\n",
       "   'reference': 'CnRuAAAAFQ0iKSOSXHNbbPIo-aNKRSo3yebddcq_TL4CxGD8oAU-pnBl-ukGQhK24Au7yUwcbgkeKI8v5R0wy7nNiQntVJGsuHP28GFDD3iF5soeLHIW7AUpTaObEinoRGq0371hfTEpLc1ernVON2tW7qmadBIQAamYpYC9KBhF6lJrOAUr6hoUv2LmyEhiQb9Hd9sxHF0a4dUBJ6E',\n",
       "   'scope': 'GOOGLE',\n",
       "   'types': ['school', 'point_of_interest', 'establishment'],\n",
       "   'vicinity': '905 South Market Street, Scottsboro'},\n",
       "  {'geometry': {'location': {'lat': 34.7243905, 'lng': -85.9726555}},\n",
       "   'icon': 'https://maps.gstatic.com/mapfiles/place_api/icons/school-71.png',\n",
       "   'id': '365cb65b668f47ebc3dcaac889f042b1410d1115',\n",
       "   'name': 'Hollywood Junior High School',\n",
       "   'place_id': 'ChIJPdB-YMvrYYgRv1VTdL5hiO4',\n",
       "   'reference': 'CnRwAAAASzbj_lWH50L1EN5YgzJ9aojRKI9MJe-axHxKcdn_aITLXZsIX7_bANV0KQCzqBCZ7vP63ckkQCc4TsAfWyMiKV8AIWTdViEEQHlRKrBiKplLnVU6qcd8clihNa_RJ33Rro12sucJG_l-kYl6-ziuRxIQIug8uUAuYVZms6WkLx9F5hoUUSv02WjAVyVGNHhuO-vfV671_CY',\n",
       "   'scope': 'GOOGLE',\n",
       "   'types': ['school', 'point_of_interest', 'establishment'],\n",
       "   'vicinity': '6369 County Road 33, Hollywood'},\n",
       "  {'geometry': {'location': {'lat': 34.66190499999999,\n",
       "     'lng': -86.01379399999999}},\n",
       "   'icon': 'https://maps.gstatic.com/mapfiles/place_api/icons/restaurant-71.png',\n",
       "   'id': '2e8c2ddaa73d695865ddbb0b214ed7d514fb0e70',\n",
       "   'name': 'Ruby Tuesday',\n",
       "   'opening_hours': {'open_now': True, 'weekday_text': []},\n",
       "   'place_id': 'ChIJ65pTACvvYYgRctu1otcwj3w',\n",
       "   'price_level': 2,\n",
       "   'rating': 3,\n",
       "   'reference': 'CmRfAAAA6ZV8oJZiAfYZ-H3aPX-yuSX7dDTog70BqjMkHR_XXZNnJ1doGkvFQVE0_o0nj9tD2TaMNMzmtZFlhw50KKP9CXeyV58vlsjAr6rTFT3oR1S4PY2bGC4JMQ6-gOOB8nIsEhCFA8HyIfpadwa5VFNGte--GhQE3e1XhsnaXkwPupBU4OqeRZx8BA',\n",
       "   'scope': 'GOOGLE',\n",
       "   'types': ['bar',\n",
       "    'restaurant',\n",
       "    'food',\n",
       "    'point_of_interest',\n",
       "    'establishment'],\n",
       "   'vicinity': '252 Micah Way, Scottsboro'},\n",
       "  {'geometry': {'location': {'lat': 34.6741009, 'lng': -86.0226674}},\n",
       "   'icon': 'https://maps.gstatic.com/mapfiles/place_api/icons/shopping-71.png',\n",
       "   'id': '9627c4c71e65ea45c8324bc17ea4c8f371044ac9',\n",
       "   'name': 'MJ FUEL & SPIRIT',\n",
       "   'opening_hours': {'open_now': True, 'weekday_text': []},\n",
       "   'place_id': 'ChIJd5gGgdvuYYgRQ-dnzylz9pc',\n",
       "   'reference': 'CnRkAAAAKlyIRKuIUrdc38pdMIrPg1vfQuNiDskUl_3uFI6ZpZnbAfhsYTTnZ75WCAYGGStV4Pu7FaJCf4QJbGW7ri2_uEGhjRZoocdDR76VmSSsP3rkGTfoMVfe0qzISUAtYwTIi43gh52PU2iysRlPIPex3xIQ5904_PBHFoTEeQ5aeFEcqhoU23QTMSVOTPnnkBeX_5nOzWUrBQs',\n",
       "   'scope': 'GOOGLE',\n",
       "   'types': ['liquor_store',\n",
       "    'convenience_store',\n",
       "    'food',\n",
       "    'store',\n",
       "    'gas_station',\n",
       "    'point_of_interest',\n",
       "    'establishment'],\n",
       "   'vicinity': '701 East Willow Street, Scottsboro'},\n",
       "  {'geometry': {'location': {'lat': 34.67270550000001, 'lng': -86.0027599}},\n",
       "   'icon': 'https://maps.gstatic.com/mapfiles/place_api/icons/school-71.png',\n",
       "   'id': 'db1e5049232af873fcc6fa3536c6cacdd9796f30',\n",
       "   'name': 'Scottsboro High School',\n",
       "   'place_id': 'ChIJEbSlaxHvYYgRx5a3gKKdJCY',\n",
       "   'reference': 'CnRpAAAAODuWeadrx08ihgA9wXpG8H3wd9NQVzEzjIu2PhFhWv-5A5waJsfLVSnlLQVJGJEq4MocICOC17_xRDRgPnrmqDB5iKkfMJa-xigOwI0TXoutUJC8db6EGLyQa07CA2lzjuEGv7z2QnmfNoaaOlBXOhIQNVwH2OzwUVU0xthZ6t-UKxoUx8fTDbX5HRyH5To2j8EoOERrqrc',\n",
       "   'scope': 'GOOGLE',\n",
       "   'types': ['school', 'point_of_interest', 'establishment'],\n",
       "   'vicinity': '25053 John T Reid Parkway, Scottsboro'},\n",
       "  {'geometry': {'location': {'lat': 34.6817183, 'lng': -85.8440914}},\n",
       "   'icon': 'https://maps.gstatic.com/mapfiles/place_api/icons/school-71.png',\n",
       "   'id': '29a94a0f5b097d0c3b9c75e5b9de02a8f6323e13',\n",
       "   'name': 'Pisgah High School',\n",
       "   'place_id': 'ChIJWaeDNgvEYYgRCH675zL5E6E',\n",
       "   'reference': 'CnRmAAAAg8dRezMtc1VGWKuA3evq8qF66wIY9AsiDbTvru8JvKZRuaGeW7JoVZzHUzXwS8a_C_dC-XEOk_gtPNMvIC9QCt9Pnhk231Pyz4BcjJEgmw3LDjIkAkyfpUYhsLrEq9gf3Ot531wUhvQhdN0t28abfRIQxSfirsobOozew5_hfSOgRhoU3Cf9SxPDgfULJAs4JZR8dMGookM',\n",
       "   'scope': 'GOOGLE',\n",
       "   'types': ['school', 'point_of_interest', 'establishment'],\n",
       "   'vicinity': '60 Metcalf Street, Pisgah'},\n",
       "  {'geometry': {'location': {'lat': 34.7274391, 'lng': -85.94481259999999}},\n",
       "   'icon': 'https://maps.gstatic.com/mapfiles/place_api/icons/school-71.png',\n",
       "   'id': '9d5c78817c85eea0757d1e906770cd5c393fd782',\n",
       "   'name': 'Epruett Center of Technology',\n",
       "   'place_id': 'ChIJlzE6ahPqYYgRwqWljxI5pYk',\n",
       "   'reference': 'CnRwAAAA1RMeSN2Ot1hjptgbIeJ9KzpyR51Ja_LPv1LEdhVJZtsjpIxG36BUQcQXbLf-keL9g7__DWd2WWItSTye187ka6jonW6VTH-Wj8zL_NCflmi5GRq4PVj_ur_0EurjkdFJreSWLunAgabZYyYQjjXXzhIQmnD3jAZ7_YPWnHRV0Jr3rhoUIcUO8Ip9ajtkCedJF2f1lUeUoqc',\n",
       "   'scope': 'GOOGLE',\n",
       "   'types': ['school', 'point_of_interest', 'establishment'],\n",
       "   'vicinity': '29490 U.S. 72, Hollywood'},\n",
       "  {'geometry': {'location': {'lat': 34.6611344, 'lng': -86.0332042}},\n",
       "   'icon': 'https://maps.gstatic.com/mapfiles/place_api/icons/school-71.png',\n",
       "   'id': 'fa2ec348aed932418ae8e72a98dcda88ac553b42',\n",
       "   'name': 'Tiny Tot Day Care Center',\n",
       "   'place_id': 'ChIJiUxWnB_vYYgR1TrMt0IUD0A',\n",
       "   'reference': 'CnRrAAAAYzePOQgRNP8vqSxi5yYnnFrBvLLCyUJm2dCYjOp12aobUP_ty-xFUjqzqDKobW7ATLHXQ4kCETMowAlHXMNYV-a02ERrHIFVwIxVPpNLj4iJaYWs-pgTo44cgcb-HTFZuWyKM7ymGHIoqieWHBwp9hIQjR1H892c-B_niHij718ygBoUVvL4-7S1CtNWQbaet009L61_Ggo',\n",
       "   'scope': 'GOOGLE',\n",
       "   'types': ['school', 'point_of_interest', 'establishment'],\n",
       "   'vicinity': '825 South Market Street, Scottsboro'},\n",
       "  {'geometry': {'location': {'lat': 34.668818, 'lng': -86.03475}},\n",
       "   'icon': 'https://maps.gstatic.com/mapfiles/place_api/icons/school-71.png',\n",
       "   'id': '780b6fc2f53aca1468feefc85d9cef77223dafdb',\n",
       "   'name': 'Learning Center',\n",
       "   'place_id': 'ChIJ1wpy_ODuYYgRPRoKc0x4qUk',\n",
       "   'reference': 'CnRiAAAAyIsfw76wZKwRDkoBzj1qLbUTfboWBfEh9uIqXyPOiEqRmovAi1s_9mKLY89Lqqmvp9WMgueZvmPRdGCmdYpaXQrbOAW2vQHpPEqwtVtKfDw1cPHJSF3_ekoswgOAWNrIvJMwk1-x1B9paTXTGUg2mhIQEpnlnDxP3sadA_k_s01-phoUnv9Lq8V7uh9vi0HpszTIQY60bFY',\n",
       "   'scope': 'GOOGLE',\n",
       "   'types': ['school', 'point_of_interest', 'establishment'],\n",
       "   'vicinity': '613 South Broad Street, Scottsboro'},\n",
       "  {'geometry': {'location': {'lat': 34.6888431, 'lng': -86.0038328}},\n",
       "   'icon': 'https://maps.gstatic.com/mapfiles/place_api/icons/school-71.png',\n",
       "   'id': '4e850ded53f721bbc2a232ad21c8c326a1fda70a',\n",
       "   'name': 'Scottsboro Municipal FIELD-4A6',\n",
       "   'place_id': 'ChIJ8QCBPufuYYgRAIdTsrVbOzA',\n",
       "   'reference': 'CoQBcQAAAEi-Mjs1xKkeS8TuTyUCDYSXwXQv0YETpdkIa7EY_4EglMo6Qll87Z6MidfDmUPcT34cxyM8dBaN0RFU_QbvTzt4PWvlBfNL3DwEZHL1kM3bbEhhURPR9HvRFNlKIiKxQHtLbkSqgF7-s-SyYKH9RlOlJLTvHrprNeoGDb1XwIw0EhDsl3s-Z7MFXcU9wQtd6gAtGhQ28966NuH47PacXCkQtua-dtN_IA',\n",
       "   'scope': 'GOOGLE',\n",
       "   'types': ['school',\n",
       "    'local_government_office',\n",
       "    'point_of_interest',\n",
       "    'establishment'],\n",
       "   'vicinity': '137 Airport Street, Scottsboro'},\n",
       "  {'geometry': {'location': {'lat': 34.658945, 'lng': -86.0170567}},\n",
       "   'icon': 'https://maps.gstatic.com/mapfiles/place_api/icons/generic_business-71.png',\n",
       "   'id': '6c0edb6556cfbd2978cd8c461fe15424579298a2',\n",
       "   'name': 'NACC Salon Institute',\n",
       "   'place_id': 'ChIJXWf0BizvYYgRG4jRgJ9yrqI',\n",
       "   'reference': 'CnRoAAAAtgz0hHA2uFDM4_fhPGEt6l24m31MErJsnKjXKvYlAqH5WpWVT73KP5TXYTMamZJ-4BpX3hBBwp4OGQrjAxu3m0ehN4Kv2R8HEamP8N4pm4DyQTyHX4248ld8IGeLDEJEKTnDukuqmmNKA2kIld13cxIQ2hrWHahgxZ-4yplbSyrXxBoUq7QiSXfiDok5OWcpWYdM_-cgDyU',\n",
       "   'scope': 'GOOGLE',\n",
       "   'types': ['beauty_salon',\n",
       "    'university',\n",
       "    'school',\n",
       "    'point_of_interest',\n",
       "    'establishment'],\n",
       "   'vicinity': '105 Liberty Lane, Scottsboro'},\n",
       "  {'geometry': {'location': {'lat': 34.7309783, 'lng': -85.96413659999999}},\n",
       "   'icon': 'https://maps.gstatic.com/mapfiles/place_api/icons/school-71.png',\n",
       "   'id': '8484f0d908f986849e2c41b5ba2312cd63c53721',\n",
       "   'name': 'Alternative School',\n",
       "   'place_id': 'ChIJNauiJU_qYYgROMxjLd5VE90',\n",
       "   'reference': 'CnRmAAAANOBPAOcH3Dpa2bjDbzKkohaaJdvXTKYxBtmTEi5ky114PHFTidH6TMiZDs3w2vfsTQ5egZGmXQZ2fEZwKBj4eaQmsJHLELEZzJR-niQgbF4WOlQoitVnviPK_9mOf6JBWg3vjIvzYQY2Voo_cBBOCxIQFQWN5cvSFRjw2VzIbZpMoBoUhMbuf3VU-suFVJnZGpgudA7azj8',\n",
       "   'scope': 'GOOGLE',\n",
       "   'types': ['school', 'point_of_interest', 'establishment'],\n",
       "   'vicinity': '594 County Road 42, Hollywood'},\n",
       "  {'geometry': {'location': {'lat': 34.6680886, 'lng': -86.03117329999999}},\n",
       "   'icon': 'https://maps.gstatic.com/mapfiles/place_api/icons/school-71.png',\n",
       "   'id': '9b443683b82bd1c3934118c7b683cf0ae854622f',\n",
       "   'name': \"Kid's Kingdom Christian Care\",\n",
       "   'place_id': 'ChIJm7h1td_uYYgRRUdcL9eyvWg',\n",
       "   'reference': 'CnRvAAAATPdjH8r866N50tvGucBDahe1S-JPv1YdaX6Gr4qx-pDYcJV6oqIXlLfCKsmHR8fXgwdvYWyLT9TQWfNR1hA4qAtEfAz2PIQ2L_lBh3Hu9o4pyeQokZhmIyix-bHJsLjqQyCpadWxD25S2N9qNtvQ6xIQX62bNVwd9-p1h4y_apvHohoUKSxQIt0LaRZ1axHqCxLNjlxMBbs',\n",
       "   'scope': 'GOOGLE',\n",
       "   'types': ['school', 'point_of_interest', 'establishment'],\n",
       "   'vicinity': '415 South Scott Street, Scottsboro'},\n",
       "  {'geometry': {'location': {'lat': 34.670644, 'lng': -86.02735}},\n",
       "   'icon': 'https://maps.gstatic.com/mapfiles/place_api/icons/worship_general-71.png',\n",
       "   'id': '0cb1f6502c741d48f5f46090594b2ba651234dab',\n",
       "   'name': 'Scottsboro Cumberland Presbyterian Church',\n",
       "   'opening_hours': {'open_now': False, 'weekday_text': []},\n",
       "   'place_id': 'ChIJrVVAVdnuYYgRuotBvhsZdlc',\n",
       "   'reference': 'CoQBfAAAAP3zpVABypj7v87rgCPNc8ND2JA_DoI7WrV5-KcNFNTE3v3IS39P7T6I4K8gwai8qlx-HBBV9IcCj93hED1j5_BqFYKK_5NBFwvDpDRCVE_qV2eJ968Rvxj7UziwC6Lo1L1P5q3yqm13bG4URvhwpzD9A5SZMt5AZ8qSW4wFlG4aEhAHRXPhMY7xPmCgqO0EYoCvGhTdum_8QUfiCMITYCUzHEO8-jMprQ',\n",
       "   'scope': 'GOOGLE',\n",
       "   'types': ['church',\n",
       "    'place_of_worship',\n",
       "    'school',\n",
       "    'point_of_interest',\n",
       "    'establishment'],\n",
       "   'vicinity': '315 South Kyle Street, Scottsboro'},\n",
       "  {'geometry': {'location': {'lat': 34.6592368, 'lng': -86.0349471}},\n",
       "   'icon': 'https://maps.gstatic.com/mapfiles/place_api/icons/school-71.png',\n",
       "   'id': 'e9bd1549c9604befbc79ba332e6e61e62177f6be',\n",
       "   'name': 'First United Methodist Preschool',\n",
       "   'place_id': 'ChIJ8bhh2BjvYYgRThEW9ZfuKTs',\n",
       "   'reference': 'CoQBcwAAAKWkDMYL25FDKrVYQW-YyMz9Vgh5Ov995BrsQjxIjYr2pJ7OS6UTVLZpqg6r3ETE6-BFjGSx_ETiw5pn4He3XwWJapkyAEX15YbEpqkawR3UidLpEavLJFylzBIbONEYW9zjb3BdPYuLR8-pxjubDdnOMKeuSSGD_WiK9HR7KFB0EhCtKzf1upjznhDKG5nKPrc2GhRblXbVvmF9KS5PRqFqL1S7Q8OFEw',\n",
       "   'scope': 'GOOGLE',\n",
       "   'types': ['school', 'point_of_interest', 'establishment'],\n",
       "   'vicinity': '1105 South Broad Street, Scottsboro'},\n",
       "  {'geometry': {'location': {'lat': 34.672882, 'lng': -86.0263961}},\n",
       "   'icon': 'https://maps.gstatic.com/mapfiles/place_api/icons/generic_business-71.png',\n",
       "   'id': 'c336de5fe687d00d4fdef7c25fff66126707988e',\n",
       "   'name': 'North Alabama Center For Educa',\n",
       "   'place_id': 'ChIJJXN0gdfuYYgRQ7XBqxqBQZk',\n",
       "   'reference': 'CoQBcgAAAGXR-kiFgdyH9veNFEbd14Q7GQK4tBeUn648JPzdaBGB9omuP9wsvYu6_hW3qI0fwWlEhtfazParm7JmMX8m2ypn5FzS6rRbVooG4YCRB5MFc5jjhxxXdC9TtKvDH0ml09d4LGdAzluIop9zuUxXhSibh6_5vOhz5b5S3V94GwCHEhDL6K493cZSMLigrCK-t6mrGhS6uAqhkoew7tRobeGc6BH6HidLfw',\n",
       "   'scope': 'GOOGLE',\n",
       "   'types': ['university', 'school', 'point_of_interest', 'establishment'],\n",
       "   'vicinity': '605 East Laurel Street, Scottsboro'},\n",
       "  {'geometry': {'location': {'lat': 34.6499574, 'lng': -86.03402129999999}},\n",
       "   'icon': 'https://maps.gstatic.com/mapfiles/place_api/icons/school-71.png',\n",
       "   'id': 'b1fa867c33a9ffc3ae078119a6dba19537cc81d5',\n",
       "   'name': 'Calvary Baptist Kindergarten',\n",
       "   'place_id': 'ChIJg8kwbBbvYYgRiMfMxUWt8wI',\n",
       "   'reference': 'CnRvAAAAgk8zElc2_S43HOEO2u1oa736vrVS3X27SsuRP72hZ0WGDs6eopWGTgNrkNQTiKCYySMX42IbLr9EZOWa1DpwMzpzXf2yX2W4XZFXJTtAcO36x-vNL-xIA0zC_B0BAkaiu66u7s8CBLOiNenJY4sPPhIQuI4f8xzUjUaKrLPbgyei0BoUjs02OJiN1Nccx_qzZ1Ud2nQUYFU',\n",
       "   'scope': 'GOOGLE',\n",
       "   'types': ['school', 'point_of_interest', 'establishment'],\n",
       "   'vicinity': '305 County Park Road, Scottsboro'}],\n",
       " 'status': 'OK'}"
      ]
     },
     "execution_count": 2,
     "metadata": {},
     "output_type": "execute_result"
    }
   ],
   "source": [
    "data[1]"
   ]
  },
  {
   "cell_type": "code",
   "execution_count": 3,
   "metadata": {
    "collapsed": false
   },
   "outputs": [],
   "source": [
    "def clean_type(type_lst):\n",
    "    for bored_keyword in [ 'point_of_interest', 'establishment']:\n",
    "        if bored_keyword in type_lst:\n",
    "            type_lst.remove(bored_keyword)\n",
    "    return type_lst\n",
    "def extract_places(loc):\n",
    "    place_lst = []\n",
    "    for place in loc['results']:\n",
    "        dic = {}\n",
    "        dic['lat'] = place['geometry']['location']['lat']\n",
    "        dic['lng'] = place['geometry']['location']['lng']\n",
    "        dic['name'] = place['name']\n",
    "        dic['types'] = clean_type(place['types'])\n",
    "        place_lst.append(dic)\n",
    "    return place_lst"
   ]
  },
  {
   "cell_type": "markdown",
   "metadata": {},
   "source": [
    "## Cleaning the data"
   ]
  },
  {
   "cell_type": "code",
   "execution_count": 4,
   "metadata": {
    "collapsed": false
   },
   "outputs": [],
   "source": [
    "# this is a heavy computation cleaning step\n",
    "cleaned_data = [extract_places(record) for record in data]"
   ]
  },
  {
   "cell_type": "code",
   "execution_count": 6,
   "metadata": {
    "collapsed": false
   },
   "outputs": [
    {
     "name": "stdout",
     "output_type": "stream",
     "text": [
      "20\n"
     ]
    }
   ],
   "source": [
    "largest_record_len = max([len(i) for i in cleaned_data])\n",
    "print (largest_record_len)\n"
   ]
  },
  {
   "cell_type": "code",
   "execution_count": null,
   "metadata": {
    "collapsed": true
   },
   "outputs": [],
   "source": []
  },
  {
   "cell_type": "code",
   "execution_count": 7,
   "metadata": {
    "collapsed": false
   },
   "outputs": [],
   "source": [
    "# cleaned_data[3000]\n",
    "import pandas as pd\n",
    "acc_df = pd.read_csv(\"../../data/train/accident_train.csv\")"
   ]
  },
  {
   "cell_type": "code",
   "execution_count": 8,
   "metadata": {
    "collapsed": false
   },
   "outputs": [
    {
     "data": {
      "text/plain": [
       "Index(['ID', 'STATE', 'VE_FORMS', 'PEDS', 'PERSONS', 'COUNTY', 'CITY', 'YEAR',\n",
       "       'DAY', 'MONTH', 'DAY_WEEK', 'HOUR', 'MINUTE', 'NHS', 'ROAD_FNC',\n",
       "       'ROUTE', 'TWAY_ID', 'MILEPT', 'LATITUDE', 'LONGITUD', 'SP_JUR',\n",
       "       'HARM_EV', 'MAN_COLL', 'REL_ROAD', 'LGT_COND', 'WEATHER', 'SCH_BUS',\n",
       "       'RAIL', 'NOT_HOUR', 'NOT_MIN', 'ARR_HOUR', 'ARR_MIN', 'HOSP_HR',\n",
       "       'HOSP_MN', 'CF1', 'CF2', 'CF3', 'FATALS', 'DRUNK_DR'],\n",
       "      dtype='object')"
      ]
     },
     "execution_count": 8,
     "metadata": {},
     "output_type": "execute_result"
    }
   ],
   "source": [
    "acc_df.columns"
   ]
  },
  {
   "cell_type": "code",
   "execution_count": 9,
   "metadata": {
    "collapsed": false
   },
   "outputs": [
    {
     "data": {
      "text/plain": [
       "32.992777777800001"
      ]
     },
     "execution_count": 9,
     "metadata": {},
     "output_type": "execute_result"
    }
   ],
   "source": [
    "acc_df.loc[0][\"LATITUDE\"]"
   ]
  },
  {
   "cell_type": "code",
   "execution_count": 12,
   "metadata": {
    "collapsed": true
   },
   "outputs": [],
   "source": [
    "import geopy\n",
    "from geopy.distance import great_circle\n",
    "# from math import atan2, sqrt, sin, cos\n",
    "# def dist_calc(lon1, lon2, lat1, lat2):\n",
    "#     # in units of mile\n",
    "#     dlon = abs(lon2 - lon1) * np.pi / 180\n",
    "#     dlat = abs(lat2 - lat1) * np.pi / 180\n",
    "#     a = (sin(dlat/2))**2 + cos(lat1) * cos(lat2) * (sin(dlon/2))**2 \n",
    "#     c = 2 * atan2( sqrt(a), sqrt(1-a) ) \n",
    "#     d = 3959 * c\n",
    "#     return d"
   ]
  },
  {
   "cell_type": "code",
   "execution_count": 54,
   "metadata": {
    "collapsed": false
   },
   "outputs": [],
   "source": [
    "import numpy as np\n",
    "N = len(cleaned_data)\n",
    "school_cnt = np.zeros(N)\n",
    "univ_cnt = np.zeros(N)\n",
    "bar_cnt = np.zeros(N)\n",
    "liq_cnt = np.zeros(N)\n",
    "dist_google = np.zeros((N,20))\n",
    "i = 0\n",
    "for acc in cleaned_data:\n",
    "    j = 0\n",
    "    acc_loc = (acc_df.loc[i][\"LATITUDE\"], acc_df.loc[i][\"LONGITUD\"])\n",
    "    for place in acc:\n",
    "        school_cnt[i] += \"school\" in place['types']\n",
    "        univ_cnt[i] += \"university\" in place['types']\n",
    "        bar_cnt[i] += \"bar\" in place['types']\n",
    "        liq_cnt[i] += \"liquor_store\" in place['types']\n",
    "        place_loc = (place['lat'], place['lng'] )\n",
    "        if \"bar\" in place['types'] or \"liquor_store\" in place['types']:\n",
    "            dist_google[i,j] = great_circle(acc_loc, place_loc).miles\n",
    "            j += 1\n",
    "    i += 1\n",
    "    \n",
    "df_google = pd.DataFrame({\"school_cnt\":school_cnt, \"bar_cnt\":bar_cnt, \"univ_cnt\":univ_cnt, \"liq_cnt\":liq_cnt})\n",
    "# dist_google"
   ]
  },
  {
   "cell_type": "code",
   "execution_count": 55,
   "metadata": {
    "collapsed": false
   },
   "outputs": [],
   "source": [
    "df_google['drunk'] = acc_df['DRUNK_DR']"
   ]
  },
  {
   "cell_type": "code",
   "execution_count": 115,
   "metadata": {
    "collapsed": false
   },
   "outputs": [
    {
     "data": {
      "text/plain": [
       "<matplotlib.axes._subplots.AxesSubplot at 0x223b539b0>"
      ]
     },
     "execution_count": 115,
     "metadata": {},
     "output_type": "execute_result"
    },
    {
     "data": {
      "image/png": "[encoded data removed]",
      "text/plain": [
       "<matplotlib.figure.Figure at 0x225fc7940>"
      ]
     },
     "metadata": {},
     "output_type": "display_data"
    }
   ],
   "source": [
    "% matplotlib inline\n",
    "drunk_df_google = df_google[df_google['drunk']]\n",
    "nondrunk_df_google = df_google[~df_google['drunk']]\n",
    "\n",
    "# drunk_df_google['bar_cnt'].hist()\n",
    "# nondrunk_df_google['bar_cnt'].hist()\n",
    "\n",
    "\n",
    "drunk_df_google['school_cnt'].hist(bins=20)\n",
    "# nondrunk_df_google['school_cnt'].hist(bins=100)\n",
    "\n",
    "\n",
    "\n",
    "# df_google['bar_cnt'].hist()\n",
    "# df_google['school_cnt'].hist()\n",
    "# df_google['bar_cnt'].hist()\n",
    "# df_google['univ_cnt'].hist()\n"
   ]
  },
  {
   "cell_type": "code",
   "execution_count": 109,
   "metadata": {
    "collapsed": false
   },
   "outputs": [
    {
     "data": {
      "text/plain": [
       "array([[<matplotlib.axes._subplots.AxesSubplot object at 0x22689d128>]], dtype=object)"
      ]
     },
     "execution_count": 109,
     "metadata": {},
     "output_type": "execute_result"
    },
    {
     "data": {
      "image/png": "[encoded data removed]",
      "text/plain": [
       "<matplotlib.figure.Figure at 0x22646ec18>"
      ]
     },
     "metadata": {},
     "output_type": "display_data"
    },
    {
     "data": {
      "image/png": "[encoded data removed]",
      "text/plain": [
       "<matplotlib.figure.Figure at 0x2266303c8>"
      ]
     },
     "metadata": {},
     "output_type": "display_data"
    }
   ],
   "source": [
    "if_drunk = np.array(df_google['drunk'])\n",
    "\n",
    "drunk_dist = np.reshape(dist_google[if_drunk,],-1)\n",
    "drunk_dist = drunk_dist[np.nonzero(drunk_dist)]\n",
    "\n",
    "nondrunk_dist = np.reshape(dist_google[~if_drunk,],-1)\n",
    "nondrunk_dist = nondrunk_dist[np.nonzero(nondrunk_dist)]\n",
    "\n",
    "pd.DataFrame(drunk_dist).hist(bins=100)\n",
    "pd.DataFrame(nondrunk_dist).hist(bins=100)"
   ]
  },
  {
   "cell_type": "code",
   "execution_count": null,
   "metadata": {
    "collapsed": true
   },
   "outputs": [],
   "source": []
  }
 ],
 "metadata": {
  "kernelspec": {
   "display_name": "Python 3",
   "language": "python",
   "name": "python3"
  },
  "language_info": {
   "codemirror_mode": {
    "name": "ipython",
    "version": 3
   },
   "file_extension": ".py",
   "mimetype": "text/x-python",
   "name": "python",
   "nbconvert_exporter": "python",
   "pygments_lexer": "ipython3",
   "version": "3.5.1"
  }
 },
 "nbformat": 4,
 "nbformat_minor": 0
}
