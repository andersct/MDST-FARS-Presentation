{
 "cells": [
  {
   "cell_type": "markdown",
   "metadata": {},
   "source": [
    "<img src=\"http://static1.squarespace.com/static/55d78486e4b038548bc9f33e/t/55ec5931e4b0518639da93c6/1448895140273/?format=1500w\"/>"
   ]
  },
  {
   "cell_type": "markdown",
   "metadata": {},
   "source": [
    "# <center> Getting Started With The FARS Dataset </center>"
   ]
  },
  {
   "cell_type": "markdown",
   "metadata": {},
   "source": [
    "## Introduction\n",
    "\n",
    "In this notebook we will introduce the FARS dataset and create a simple prediction model.\n",
    "\n",
    "## The Data\n",
    "\n",
    "You can find the data <a href=https://inclass.kaggle.com/c/mdst-fars>here</a>.\n",
    "\n",
    "The National Highway Traffic Safety Administration (NHTSA) regulates motor vehicle safety in the United States.  Part of this effort is collecting data about fatal car accidents.  This data collection is called the Fatality Awareness Reporting System.  In this challenge, we will be predicting whether a fatal accident involved drunk driving or not.\n",
    "\n",
    "Let's explore what sorts of data we have available.  For a full accounting, see the data definition spreadsheet included with the data.  \n",
    "\n",
    "### The Accident Table\n",
    "\n",
    "This table contains general data for each fatal accident.  This data contains a unique identifier, 'ID' and things like geographical location, time, and weather.\n",
    "\n",
    "### The Person Table\n",
    "\n",
    "This table contains data about the people involved in the accident.  This includes demographic data and time of death.  The 'ID' columns matches people to accidents.\n",
    "\n",
    "### The Vehicle Table\n",
    "\n",
    "Information about the vehicles involved in the accident, such as the make, model, and year of the vehicle.  The 'ID' column matches vehicles to accidents.\n",
    "\n",
    "## Working With The Data\n",
    "\n",
    "The following code will gives an introduction to working with the FARS data set in Python."
   ]
  },
  {
   "cell_type": "code",
   "execution_count": 12,
   "metadata": {},
   "outputs": [],
   "source": [
    "# Import libraries and data.\n",
    "%matplotlib inline\n",
    "import pandas as pd\n",
    "import numpy as np\n",
    "import matplotlib.pyplot as plt\n",
    "import os\n",
    "\n",
    "stringify = lambda x: str(x)\n",
    "converter_dict = {\n",
    "    'STATE': stringify,\n",
    "    'COUNTY': stringify,\n",
    "    'CITY': stringify,\n",
    "    'DAY': stringify, # yah? doesn't seem numeric\n",
    "    'MONTH': stringify,\n",
    "    'DAY_WEEK': stringify,\n",
    "    'HOUR': stringify,\n",
    "    'MINUTE': stringify,\n",
    "    'NHS': stringify, # blank = -1\n",
    "    'ROAD_FNC': stringify, # blank = -1\n",
    "    'ROUTE': stringify, # blank = -1\n",
    "    # MILEPT : [-40, 99999] ? no info in defs\n",
    "    'SP_JUR': stringify, # blank = -1\n",
    "    'HARM_EV': stringify, # unk = 99, no blank\n",
    "    'MAN_COLL': stringify, # blank = -1, unk=99\n",
    "    'REL_ROAD': stringify, # blank = -1, unk=99\n",
    "    'LGT_COND': stringify, # blank = -1, unk=9\n",
    "    'WEATHER': stringify, # blank = -1, unk=9\n",
    "    'SCH_BUS': stringify, # blank = -1\n",
    "#     'RAIL' - remove\n",
    "#     'TWAY_ID', - remove\n",
    "#     'YEAR' - remove\n",
    "    'NOT_HOUR': stringify,\n",
    "    \"\"\"\n",
    "    strange ones:\n",
    "    99\tUnknown\n",
    "    24\t12:00pm\n",
    "    -1\tBlank\n",
    "    88\tNot Applicable\n",
    "    \"\"\"\n",
    "    'NOT_MIN': stringify,\n",
    "    \"\"\"\n",
    "    -1\tBlank\n",
    "    99\tUnknown\n",
    "    88\tNot Applicable\n",
    "    \"\"\"\n",
    "    'ARR_HOUR': stringify, # same format as NOT_HOUR\n",
    "    'ARR_MIN': stringify, # same format as NOT_MIN\n",
    "    'HOSP_HR': stringify, # same format as NOT_HOUR\n",
    "    'HOSP_MN': stringify, # same format as NOT_MIN\n",
    "    'CF1': stringify, # blank = -1, unk=99\n",
    "    'CF2': stringify, # same as CF1\n",
    "    'CF3': stringify, # same as CF1\n",
    "#     'FATALS' - numeric\n",
    "}\n",
    "\n",
    "acc_df = pd.read_csv('./train/accident_train.csv', converters=converter_dict)\n",
    "test_df = pd.read_csv('./test/accident_test.csv')\n",
    "# per_df = pd.read_csv('./train/person_train.csv')\n",
    "# veh_df = pd.read_csv('./train/vehicle_train.csv')"
   ]
  },
  {
   "cell_type": "code",
   "execution_count": 13,
   "metadata": {},
   "outputs": [],
   "source": [
    "# Create a train-test split on just the accident data for model testing.\n",
    "from sklearn.cross_validation import train_test_split\n",
    "\n",
    "acc_df.fillna(-1, inplace=True)\n",
    "Ydata = acc_df['DRUNK_DR'].values\n",
    "extra_drop = [\n",
    "    'MINUTE',\n",
    "    'NOT_MIN',\n",
    "    'ARR_MIN',\n",
    "    'HOSP_MN',\n",
    "    'NHS',\n",
    "    'LATITUDE',\n",
    "    'LONGITUD',\n",
    "    'DAY',\n",
    "    'COUNTY',\n",
    "    'CITY',\n",
    "    'ARR_HOUR',\n",
    "    'HOSP_HR',\n",
    "    'STATE',\n",
    "    'MONTH',\n",
    "    'ROAD_FNC',\n",
    "    'ROUTE',\n",
    "    'SP_JUR',\n",
    "    'MILEPT', # big one in overfit\n",
    "    'CF1',\n",
    "    'CF2',\n",
    "    'CF3',\n",
    "    # ^rf still at 90 on tr and 75 on validation\n",
    "#     'HARM_EV',\n",
    "]\n",
    "categorical_drop = [\n",
    "    'DAY_WEEK',\n",
    "    'HOUR',\n",
    "    'REL_ROAD',\n",
    "    'LGT_COND',\n",
    "    'WEATHER',\n",
    "    'SCH_BUS',\n",
    "    'STATE',\n",
    "    'NOT_HOUR',\n",
    "    'HARM_EV',\n",
    "]\n",
    "\n",
    "# change categoricals to 1-hot? and then drop the old columns\n",
    "pd.concat(\n",
    "    [\n",
    "        acc_df,\n",
    "        pd.get_dummies(acc_df['DAY_WEEK'],prefix = 'DAY_WEEK_').astype(np.int8),\n",
    "        pd.get_dummies(acc_df['HOUR'],prefix = 'HOUR_').astype(np.int8),\n",
    "        pd.get_dummies(acc_df['REL_ROAD'],prefix = 'REL_ROAD_').astype(np.int8),\n",
    "        pd.get_dummies(acc_df['LGT_COND'],prefix = 'LGT_COND_').astype(np.int8),\n",
    "        pd.get_dummies(acc_df['WEATHER'],prefix = 'WEATHER_').astype(np.int8),\n",
    "        pd.get_dummies(acc_df['SCH_BUS'],prefix = 'SCH_BUS_').astype(np.int8),\n",
    "        pd.get_dummies(acc_df['STATE'],prefix = 'STATE_').astype(np.int8),\n",
    "        pd.get_dummies(acc_df['NOT_HOUR'],prefix = 'NOT_HOUR_').astype(np.int8),\n",
    "        pd.get_dummies(acc_df['HARM_EV'],prefix = 'HARM_EV_').astype(np.int8),\n",
    "    ],\n",
    "    axis=1)\n",
    "acc_df.sort(axis=1, inplace=True)\n",
    "acc_df.drop(['DRUNK_DR', 'RAIL', 'ID', 'TWAY_ID', 'YEAR'] +\n",
    "            extra_drop + categorical_drop,\n",
    "            axis=1,\n",
    "            inplace=True)\n",
    "Xdata = acc_df.values\n",
    "\n",
    "Xtr, Xte, Ytr, Yte = train_test_split(Xdata, Ydata)"
   ]
  },
  {
   "cell_type": "code",
   "execution_count": 14,
   "metadata": {},
   "outputs": [
    {
     "data": {
      "text/html": [
       "<div style=\"max-height:1000px;max-width:1500px;overflow:auto;\">\n",
       "<table border=\"1\" class=\"dataframe\">\n",
       "  <thead>\n",
       "    <tr style=\"text-align: right;\">\n",
       "      <th></th>\n",
       "      <th>FATALS</th>\n",
       "      <th>MAN_COLL</th>\n",
       "      <th>PEDS</th>\n",
       "      <th>PERSONS</th>\n",
       "      <th>VE_FORMS</th>\n",
       "    </tr>\n",
       "  </thead>\n",
       "  <tbody>\n",
       "    <tr>\n",
       "      <th>0</th>\n",
       "      <td> 1</td>\n",
       "      <td> 0</td>\n",
       "      <td> 0</td>\n",
       "      <td> 1</td>\n",
       "      <td> 1</td>\n",
       "    </tr>\n",
       "    <tr>\n",
       "      <th>1</th>\n",
       "      <td> 1</td>\n",
       "      <td> 0</td>\n",
       "      <td> 0</td>\n",
       "      <td> 1</td>\n",
       "      <td> 1</td>\n",
       "    </tr>\n",
       "    <tr>\n",
       "      <th>2</th>\n",
       "      <td> 1</td>\n",
       "      <td> 0</td>\n",
       "      <td> 0</td>\n",
       "      <td> 1</td>\n",
       "      <td> 1</td>\n",
       "    </tr>\n",
       "    <tr>\n",
       "      <th>3</th>\n",
       "      <td> 1</td>\n",
       "      <td> 0</td>\n",
       "      <td> 0</td>\n",
       "      <td> 1</td>\n",
       "      <td> 1</td>\n",
       "    </tr>\n",
       "    <tr>\n",
       "      <th>4</th>\n",
       "      <td> 1</td>\n",
       "      <td> 3</td>\n",
       "      <td> 0</td>\n",
       "      <td> 3</td>\n",
       "      <td> 2</td>\n",
       "    </tr>\n",
       "  </tbody>\n",
       "</table>\n",
       "<p>5 rows × 5 columns</p>\n",
       "</div>"
      ]
     },
     "output_type": "execute_result",
     "metadata": {}
    }
   ],
   "source": [
    "# Let's train a simple regression model using sklearn\n",
    "from sklearn.linear_model import LogisticRegression\n",
    "from sklearn.ensemble import RandomForestClassifier\n",
    "\n",
    "# acc_df[acc_df.MILEPT < 99993]['MILEPT'].describe()\n",
    "acc_df.head()"
   ]
  },
  {
   "cell_type": "code",
   "execution_count": 15,
   "metadata": {},
   "outputs": [
    {
     "data": {
      "text/plain": [
       "RandomForestClassifier(bootstrap=True, class_weight=None, criterion='gini',\n",
       "            max_depth=None, max_features='auto', max_leaf_nodes=None,\n",
       "            min_samples_leaf=1, min_samples_split=2,\n",
       "            min_weight_fraction_leaf=0.0, n_estimators=10, n_jobs=1,\n",
       "            oob_score=False, random_state=None, verbose=0,\n",
       "            warm_start=False)"
      ]
     },
     "execution_count": 15,
     "output_type": "execute_result",
     "metadata": {}
    }
   ],
   "source": [
    "# Fit the models on the our train-test-split\n",
    "lr = LogisticRegression()\n",
    "rf = RandomForestClassifier()\n",
    "\n",
    "lr.fit(Xtr, Ytr)\n",
    "rf.fit(Xtr, Ytr)"
   ]
  },
  {
   "cell_type": "code",
   "execution_count": 16,
   "metadata": {},
   "outputs": [
    {
     "data": {
      "text/plain": [
       "0.7083254129788723"
      ]
     },
     "execution_count": 16,
     "output_type": "execute_result",
     "metadata": {}
    }
   ],
   "source": [
    "lr.score(Xtr, Ytr)"
   ]
  },
  {
   "cell_type": "code",
   "execution_count": 17,
   "metadata": {},
   "outputs": [
    {
     "data": {
      "text/plain": [
       "0.70972094079902082"
      ]
     },
     "execution_count": 17,
     "output_type": "execute_result",
     "metadata": {}
    }
   ],
   "source": [
    "rf.score(Xtr, Ytr)"
   ]
  },
  {
   "cell_type": "code",
   "execution_count": 18,
   "metadata": {},
   "outputs": [],
   "source": [
    "# Make predictions on our test set from train-test-split\n",
    "yhat1 = lr.predict_proba(Xte)\n",
    "yhat2 = rf.predict_proba(Xte)"
   ]
  },
  {
   "cell_type": "code",
   "execution_count": 19,
   "metadata": {},
   "outputs": [],
   "source": [
    "# \n",
    "\n",
    "from sklearn.metrics import roc_auc_score as auc\n",
    "\n",
    "auc1 = auc(Yte.astype(int), yhat1[:,1])\n",
    "auc2 = auc(Yte.astype(int), yhat2[:,1])"
   ]
  },
  {
   "cell_type": "code",
   "execution_count": 20,
   "metadata": {},
   "outputs": [
    {
     "data": {
      "text/plain": [
       "(0.67084154847938415, 0.67747476409419061)"
      ]
     },
     "execution_count": 20,
     "output_type": "execute_result",
     "metadata": {}
    }
   ],
   "source": [
    "auc1, auc2"
   ]
  },
  {
   "cell_type": "code",
   "execution_count": 21,
   "metadata": {},
   "outputs": [],
   "source": [
    "# Given a prediction, create a Kaggle submission file\n",
    "test_df.fillna(-1, inplace=True)\n",
    "# change categoricals to 1-hot? and then drop the old columns\n",
    "pd.concat(\n",
    "    [\n",
    "        test_df,\n",
    "        pd.get_dummies(test_df['DAY_WEEK'],prefix = 'DAY_WEEK_').astype(np.int8),\n",
    "        pd.get_dummies(test_df['HOUR'],prefix = 'HOUR_').astype(np.int8),\n",
    "        pd.get_dummies(test_df['REL_ROAD'],prefix = 'REL_ROAD_').astype(np.int8),\n",
    "        pd.get_dummies(test_df['LGT_COND'],prefix = 'LGT_COND_').astype(np.int8),\n",
    "        pd.get_dummies(test_df['WEATHER'],prefix = 'WEATHER_').astype(np.int8),\n",
    "        pd.get_dummies(test_df['SCH_BUS'],prefix = 'SCH_BUS_').astype(np.int8),\n",
    "        pd.get_dummies(test_df['STATE'],prefix = 'STATE_').astype(np.int8),\n",
    "        pd.get_dummies(test_df['NOT_HOUR'],prefix = 'NOT_HOUR_').astype(np.int8),\n",
    "        pd.get_dummies(test_df['HARM_EV'],prefix = 'HARM_EV_').astype(np.int8),\n",
    "    ],\n",
    "    axis=1)\n",
    "test_df.sort(axis=1, inplace=True)\n",
    "# test_df.reindex_axis(sorted(acc_df.columns), axis=1)\n",
    "# test_df.head()\n",
    "\n",
    "Xsubmit = test_df.drop(['RAIL', 'ID', 'TWAY_ID'] +\n",
    "                       extra_drop + categorical_drop,\n",
    "                       axis=1).values\n",
    "Yhat = rf.predict_proba(Xsubmit)\n",
    "# Yhat\n",
    "\n",
    "submit = pd.DataFrame(data={'ID': test_df['ID'], 'DRUNK_DR': Yhat[:,1]})\n",
    "submit.to_csv('fars_submit.csv', index = False)"
   ]
  },
  {
   "cell_type": "code",
   "execution_count": 48,
   "metadata": {},
   "outputs": [],
   "source": [
    "# Let's explore the data a little bit.\n",
    "year_group = acc_df.groupby('YEAR')"
   ]
  },
  {
   "cell_type": "code",
   "execution_count": 21,
   "metadata": {},
   "outputs": [],
   "source": [
    "years = list(year_group.groups.keys())\n",
    "fatals = np.zeros(len(years))\n",
    "for i, year in enumerate(years):\n",
    "    fatals[i] = acc_df.ix[year_group.groups[year]]['FATALS'].sum()"
   ]
  },
  {
   "cell_type": "code",
   "execution_count": 47,
   "metadata": {},
   "outputs": [
    {
     "data": {
      "image/png": "[encoded data removed]"
     },
     "output_type": "display_data",
     "metadata": {}
    }
   ],
   "source": [
    "fig = plt.figure()\n",
    "fig.set_size_inches(12,6)\n",
    "\n",
    "ax = fig.add_subplot(111)\n",
    "ax.plot(years, fatals)\n",
    "labels = ax.set_xticklabels([str(year) for year in years])"
   ]
  },
  {
   "cell_type": "code",
   "execution_count": 50,
   "metadata": {},
   "outputs": [],
   "source": [
    "state_group = acc_df.groupby('STATE')\n",
    "states = list(state_group.groups.keys())\n",
    "fatals = np.zeros(len(states))\n",
    "for i, state in enumerate(states):\n",
    "    fatals[i] = acc_df.ix[state_group.groups[state]]['FATALS'].sum()"
   ]
  },
  {
   "cell_type": "code",
   "execution_count": 56,
   "metadata": {},
   "outputs": [
    {
     "data": {
      "image/png": "[encoded data removed]"
     },
     "output_type": "display_data",
     "metadata": {}
    }
   ],
   "source": [
    "fig, ax = plt.subplots()\n",
    "fig.set_size_inches(16,8)\n",
    "width = 0.1\n",
    "\n",
    "states = \n",
    "[\"Alabama \",\"Alaska \",\"Arizona \",\"Arkansas \",\n",
    "\"California \",\n",
    "\"Colorado \",\n",
    "\"Connecticut \", \n",
    "\"Delaware \",\n",
    "\"Florida \",\n",
    "\"Georgia \",\n",
    "\"Hawaii \",\n",
    "\"Idaho \",\n",
    "\"Illinois \",\n",
    "\"Indiana \",\n",
    "\"Iowa \",\n",
    "\"Kansas \",\n",
    "\"Kentucky \",\n",
    "\"Louisiana \",\n",
    "\"Maine \",\n",
    "\"Maryland \",\n",
    "\"Massachusetts \",\n",
    "\"Michigan \",\n",
    "\"Minnesota \",\n",
    "\"Mississippi\", \n",
    "\"Missouri \",\n",
    "\"Montana \",\n",
    "\"Nebraska \",\n",
    "\"Nevada \",\n",
    "\"New Hampshire \", \n",
    "\"New Jersey \",\n",
    "\"New Mexico \",\n",
    "\"New York \",\n",
    "\"North Carolina \",\"North Dakota \",\"Ohio \",\"Oklahoma \",\"Oregon \",\"Pennsylvania \",\"Rhode Island \",\"South Carolina \",\"South Dakota \", \"Tennessee \",\"Texas \",\"Utah \",\"Vermont \",\"Virginia \",\"Washington \",\"West Virginia \", \"Wisconsin \", \"Wyoming \"]\n",
    "\n",
    "\n",
    "ax.bar(states, fatals)\n",
    "ticks = ax.set_xticks(np.array(states) + width)\n",
    "ax.set_xticklabels()\n",
    "# labels = ax.set_xticklabels([str(year) for year in years]\")"
   ]
  },
  {
   "cell_type": "code",
   "execution_count": 57,
   "metadata": {},
   "outputs": [
    {
     "data": {
      "text/plain": [
       "array([  8302.,    610.,   8315.,   5078.,  30156.,   4467.,   2323.,\n",
       "         1012.,    326.,  24485.,  12334.,   1043.,   2014.,   9555.,\n",
       "         6785.,   3339.,   3441.,   7030.,   7271.,   1416.,   4809.,\n",
       "         3293.,   8538.,   4072.,   6622.,   8366.,   1922.,   1969.,\n",
       "         2818.,   1096.,   5428.,   3421.,  10805.,  11964.,    899.,\n",
       "         9667.,   5934.,   3498.,  11747.,    639.,   7855.,   1315.,\n",
       "         9358.,  27656.,   2246.,    611.,   7124.,   4493.,   3070.,\n",
       "         5673.,   1292.])"
      ]
     },
     "execution_count": 57,
     "output_type": "execute_result",
     "metadata": {}
    }
   ],
   "source": [
    "fatals"
   ]
  },
  {
   "cell_type": "code",
   "execution_count": null,
   "metadata": {},
   "outputs": [],
   "source": [
    ""
   ]
  }
 ],
 "metadata": {
  "kernelspec": {
   "display_name": "Python 2",
   "language": "python",
   "name": "python2"
  },
  "language_info": {
   "codemirror_mode": {
    "name": "ipython",
    "version": 2.0
   },
   "file_extension": ".py",
   "mimetype": "text/x-python",
   "name": "python",
   "nbconvert_exporter": "python",
   "pygments_lexer": "ipython2",
   "version": "2.7.9"
  }
 },
 "nbformat": 4,
 "nbformat_minor": 0
}