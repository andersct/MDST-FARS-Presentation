{
 "cells": [
  {
   "cell_type": "markdown",
   "metadata": {},
   "source": [
    "# <center> Accident table visualization </center>"
   ]
  },
  {
   "cell_type": "markdown",
   "metadata": {},
   "source": [
    "## Introduction\n",
    "\n",
    "In this notebook, we want to visualize the data in the accident table to figure out what factors are most sensitive to the drunk-driver involvement.  \n",
    "\n",
    "## Method\n",
    "In particular, we plot the probability distribution of variables in the accident table. The distributions are plotted as histograms and normalized by the total number of event in each plot. So for each variable, we have two distributions, one for accidents with drunk driver involved and one without drunk driver involved. Then these two distributions are compared and we rank the variables by the difference between the distribution for this variable. "
   ]
  },
  {
   "cell_type": "code",
   "execution_count": 243,
   "metadata": {
    "collapsed": false
   },
   "outputs": [],
   "source": [
    "# import libraries and data.\n",
    "%matplotlib inline\n",
    "import pandas as pd\n",
    "import numpy as np\n",
    "import matplotlib.pyplot as plt\n",
    "\n",
    "# load the data\n",
    "acc_df = pd.read_csv('data/fars_train/accident_train.csv')"
   ]
  },
  {
   "cell_type": "code",
   "execution_count": 244,
   "metadata": {
    "collapsed": true
   },
   "outputs": [],
   "source": [
    "def varDiff(varName):\n",
    "    '''\n",
    "    function to calculate the the difference of distributions between drunk driver involved accident and \n",
    "    sober driver involved accident for a given variable\n",
    "    '''\n",
    "    var_df = acc_df[[varName, 'DRUNK_DR']]\n",
    "    \n",
    "    # get the data for drunk driver and sober driver\n",
    "    drunk = var_df[(var_df.DRUNK_DR==True)][varName].values\n",
    "    sober = var_df[(var_df.DRUNK_DR==False)][varName].values\n",
    "\n",
    "    # determine the lower and upper bound for the histogram\n",
    "    minBin = int(np.floor( min(min(drunk), min(sober))))\n",
    "    maxBin = int(np.ceil( max(max(drunk), max(sober)) ))\n",
    "\n",
    "    # get the normalized histograms \n",
    "    bins = range(minBin, maxBin+1)\n",
    "    drunk_hist = np.histogram(drunk, bins=bins, density=True)[0]\n",
    "    sober_hist = np.histogram(sober, bins=bins, density=True)[0]\n",
    "\n",
    "    # calculate the difference between this two histograms\n",
    "    diff = np.sum(np.abs(drunk_hist - sober_hist))\n",
    "    return diff"
   ]
  },
  {
   "cell_type": "code",
   "execution_count": 318,
   "metadata": {
    "collapsed": false
   },
   "outputs": [],
   "source": [
    "varList = ['STATE', 'VE_FORMS', 'PEDS', 'PERSONS', 'COUNTY', 'CITY', 'YEAR', 'DAY', 'MONTH', 'DAY_WEEK', \n",
    "           'HOUR', 'MINUTE', 'NHS', 'ROAD_FNC', 'ROUTE', 'MILEPT', 'SP_JUR', 'HARM_EV', 'MAN_COLL',\n",
    "           'REL_ROAD', 'LGT_COND', 'WEATHER', 'CF1', 'CF2', 'CF3', 'FATALS']\n",
    "varImp = {}\n",
    "for varName in varList:\n",
    "    varImp[varName] = varDiff(varName)\n",
    "varImp = sorted(varImp.items(), key=lambda x: (x[1], x[0]), reverse=True)"
   ]
  },
  {
   "cell_type": "code",
   "execution_count": 319,
   "metadata": {
    "collapsed": false
   },
   "outputs": [
    {
     "data": {
      "text/plain": [
       "[('HOUR', 0.803560313712263),\n",
       " ('LGT_COND', 0.72777858946492047),\n",
       " ('HARM_EV', 0.57458844324181102),\n",
       " ('REL_ROAD', 0.55413604627784629),\n",
       " ('PERSONS', 0.35462667860703928),\n",
       " ('DAY_WEEK', 0.34200820278579569),\n",
       " ('VE_FORMS', 0.30138022235478146),\n",
       " ('PEDS', 0.28473427965919285),\n",
       " ('MAN_COLL', 0.27181088933306663),\n",
       " ('ROAD_FNC', 0.24186566822220609),\n",
       " ('ROUTE', 0.20444572636785066),\n",
       " ('MILEPT', 0.19417883431798705),\n",
       " ('STATE', 0.18377225189626858),\n",
       " ('CITY', 0.17773653635980013),\n",
       " ('NHS', 0.16321676979308203),\n",
       " ('COUNTY', 0.099459000945682635),\n",
       " ('MINUTE', 0.072138296125120641),\n",
       " ('WEATHER', 0.061898319280904154),\n",
       " ('YEAR', 0.051337438227483753),\n",
       " ('MONTH', 0.041667873302338385),\n",
       " ('FATALS', 0.028855882321193276),\n",
       " ('DAY', 0.028496875221100532),\n",
       " ('CF1', 0.023675905563153018),\n",
       " ('SP_JUR', 0.011102314972212635),\n",
       " ('CF2', 0.0031366821429606819),\n",
       " ('CF3', 0.0018443408376188945)]"
      ]
     },
     "execution_count": 319,
     "metadata": {},
     "output_type": "execute_result"
    }
   ],
   "source": [
    "varImp"
   ]
  },
  {
   "cell_type": "code",
   "execution_count": 320,
   "metadata": {
    "collapsed": false
   },
   "outputs": [
    {
     "data": {
      "text/plain": [
       "(-0.5, 20)"
      ]
     },
     "execution_count": 320,
     "metadata": {},
     "output_type": "execute_result"
    },
    {
     "data": {
      "image/png": "[encoded data removed]",
      "text/plain": [
       "<matplotlib.figure.Figure at 0x1175e0f60>"
      ]
     },
     "metadata": {},
     "output_type": "display_data"
    }
   ],
   "source": [
    "varImp = varImp[0:20]\n",
    "varImp = np.array(varImp)\n",
    "diffValue = np.array(varImp[:,1], float)\n",
    "plt.bar(range(len(diffValue)), diffValue, align='center')\n",
    "plt.xticks(range(len(varImp[:,0])), list(varImp[:,0]), size='small', rotation=60)\n",
    "plt.xlim(-0.5, len(diffValue))"
   ]
  }
 ],
 "metadata": {
  "kernelspec": {
   "display_name": "Python 3",
   "language": "python",
   "name": "python3"
  },
  "language_info": {
   "codemirror_mode": {
    "name": "ipython",
    "version": 3
   },
   "file_extension": ".py",
   "mimetype": "text/x-python",
   "name": "python",
   "nbconvert_exporter": "python",
   "pygments_lexer": "ipython3",
   "version": "3.5.1"
  }
 },
 "nbformat": 4,
 "nbformat_minor": 0
}
