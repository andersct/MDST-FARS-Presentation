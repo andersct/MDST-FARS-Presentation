{
 "cells": [
  {
   "cell_type": "markdown",
   "metadata": {},
   "source": [
    "# <center> Accident table visualization </center>"
   ]
  },
  {
   "cell_type": "markdown",
   "metadata": {},
   "source": [
    "## Introduction\n",
    "\n",
    "In this notebook, we want to visualize the data in the accident table to figure out what factors are most sensitive to the drunk-driver involvement.  \n",
    "\n",
    "## Method\n",
    "In particular, we plot the probability distribution of variables in the accident table. The distributions are plotted as histograms and normalized by the total number of event in each plot. So for each variable, we have two distributions, one for accidents with drunk driver involved and one without drunk driver involved. Then these two distributions are compared and we rank the variables by the difference between the distribution for this variable. "
   ]
  },
  {
   "cell_type": "code",
   "execution_count": null,
   "metadata": {
    "collapsed": false
   },
   "outputs": [],
   "source": [
    "# import libraries and data.\n",
    "%matplotlib inline\n",
    "import pandas as pd\n",
    "import numpy as np\n",
    "import matplotlib.pyplot as plt\n",
    "from mpl_toolkits.axes_grid1 import make_axes_locatable\n",
    "\n",
    "# load the data\n",
    "acc_df = pd.read_csv('data/fars_train/accident_train.csv')"
   ]
  },
  {
   "cell_type": "markdown",
   "metadata": {},
   "source": [
    "# Statistical distance of variable distribution between drunk and sober driver"
   ]
  },
  {
   "cell_type": "code",
   "execution_count": null,
   "metadata": {
    "collapsed": true
   },
   "outputs": [],
   "source": [
    "def varDiff(varName):\n",
    "    '''\n",
    "    function to calculate the the difference of distributions between drunk driver involved accident and \n",
    "    sober driver involved accident for a given variable\n",
    "    '''\n",
    "    var_df = acc_df[[varName, 'DRUNK_DR']]\n",
    "    \n",
    "    # get the data for drunk driver and sober driver\n",
    "    drunk = var_df[(var_df.DRUNK_DR==True)][varName].values\n",
    "    sober = var_df[(var_df.DRUNK_DR==False)][varName].values\n",
    "\n",
    "    # determine the lower and upper bound for the histogram\n",
    "    minBin = int(np.floor( min(min(drunk), min(sober))))\n",
    "    maxBin = int(np.ceil( max(max(drunk), max(sober)) ))\n",
    "\n",
    "    # get the normalized histograms \n",
    "    bins = range(minBin, maxBin+2)\n",
    "    drunk_hist = np.histogram(drunk, bins=bins, density=True)[0]\n",
    "    sober_hist = np.histogram(sober, bins=bins, density=True)[0]\n",
    "\n",
    "    # calculate the difference between this two histograms\n",
    "    diff = np.sum(np.abs(drunk_hist - sober_hist))\n",
    "    return diff"
   ]
  },
  {
   "cell_type": "code",
   "execution_count": null,
   "metadata": {
    "collapsed": false
   },
   "outputs": [],
   "source": [
    "varList = ['STATE', 'VE_FORMS', 'PEDS', 'PERSONS', 'COUNTY', 'CITY', 'YEAR', 'DAY', 'MONTH', 'DAY_WEEK', \n",
    "           'HOUR', 'MINUTE', 'NHS', 'ROAD_FNC', 'ROUTE', 'MILEPT', 'SP_JUR', 'HARM_EV', 'MAN_COLL',\n",
    "           'REL_ROAD', 'LGT_COND', 'WEATHER', 'CF1', 'CF2', 'CF3', 'FATALS']\n",
    "varImp = {}\n",
    "for varName in varList:\n",
    "    varImp[varName] = varDiff(varName)\n",
    "varImp = sorted(varImp.items(), key=lambda x: (x[1], x[0]), reverse=True)"
   ]
  },
  {
   "cell_type": "code",
   "execution_count": null,
   "metadata": {
    "collapsed": false
   },
   "outputs": [],
   "source": [
    "varImp"
   ]
  },
  {
   "cell_type": "code",
   "execution_count": null,
   "metadata": {
    "collapsed": false
   },
   "outputs": [],
   "source": [
    "varImp = varImp[0:20]\n",
    "varImp = np.array(varImp)\n",
    "diffValue = np.array(varImp[:,1], float)\n",
    "plt.bar(range(len(diffValue)), diffValue, align='center')\n",
    "plt.xticks(range(len(varImp[:,0])), list(varImp[:,0]), size='small', rotation=60)\n",
    "plt.xlim(-0.5, len(diffValue))"
   ]
  },
  {
   "cell_type": "markdown",
   "metadata": {},
   "source": [
    "# Accident calendar"
   ]
  },
  {
   "cell_type": "code",
   "execution_count": null,
   "metadata": {
    "collapsed": false
   },
   "outputs": [],
   "source": [
    "def day_year(year, month, day):\n",
    "    '''\n",
    "    function to calculate the day in the year given month and the day in that month\n",
    "    counting starts at 0\n",
    "    i.e. New Year's Day is the 0th day of the year \n",
    "    and Christmas is the 358th day of the year if that year has 365 days (common year)\n",
    "    and 359th day of the year if that year has 366 days (leap year)\n",
    "    '''\n",
    "    day_month = {}\n",
    "    day_month[1] = 31\n",
    "    if year % 4 != 0:\n",
    "        day_month[2] = 28\n",
    "    elif year % 100 != 0:\n",
    "        day_month[2] = 29\n",
    "    elif year % 400 != 0:\n",
    "        day_month[2] = 28\n",
    "    else:\n",
    "        day_month[2] = 29\n",
    "    day_month[2] = day_month[1] + day_month[2]\n",
    "    day_month[3] = 31 + day_month[2]\n",
    "    day_month[4] = 30 + day_month[3]\n",
    "    day_month[5] = 31 + day_month[4]\n",
    "    day_month[6] = 30 + day_month[5]\n",
    "    day_month[7] = 31 + day_month[6]\n",
    "    day_month[8] = 31 + day_month[7]\n",
    "    day_month[9] = 30 + day_month[8]\n",
    "    day_month[10] = 31 + day_month[9]\n",
    "    day_month[11] = 30 + day_month[10]\n",
    "    day_month[12] = 31 + day_month[11]\n",
    "    \n",
    "    if month == 1:\n",
    "        return day - 1\n",
    "    else:\n",
    "        return day_month[month-1] + day - 1\n",
    "    \n",
    "def plot_cal(ax, acc_day, sad_year):\n",
    "    '''\n",
    "    function to plot the calendar of accidents \n",
    "    given the month and day information in a certain year\n",
    "    '''\n",
    "    acc_day = np.array(acc_day)\n",
    "    day_in_year = []\n",
    "    for i in range(acc_day.shape[0]):\n",
    "        day_in_year.append(day_year(sad_year, acc_day[i,0], acc_day[i,1]))\n",
    "    day_in_year = np.array(day_in_year)\n",
    "    \n",
    "    bins = range(min(day_in_year), max(day_in_year)+2)\n",
    "    hist_acc_day = np.histogram(day_in_year, bins)[0]\n",
    "    \n",
    "    days = bins[0:-1]\n",
    "    acc_cal = np.zeros((7, 53), dtype=np.int)\n",
    "    for day in days:\n",
    "        acc_cal[day % 7][day // 7] = hist_acc_day[day]\n",
    "    \n",
    "    \n",
    "    labels = ['Mon', 'Tue', 'Wed', 'Thu', 'Fri', 'Sat','Sun']\n",
    "    ax.yaxis.set_ticks(range(0,7))\n",
    "    ax.yaxis.set_ticklabels(labels)\n",
    "    im = ax.imshow(acc_cal, interpolation='nearest', cmap='OrRd')\n",
    "    ax.axes.get_xaxis().set_ticks([])\n",
    "    divider = make_axes_locatable(ax)\n",
    "    cax = divider.append_axes(\"right\", size=\"1%\", pad=0.05)\n",
    "    cb = plt.colorbar(im, cax=cax)\n",
    "    '''\n",
    "    # set color bar tick labels\n",
    "    cb_label = np.arange(0,110,10)\n",
    "    cb_loc = cb_label\n",
    "    im.set_clim(0,100)\n",
    "    cb.set_ticks(cb_loc)\n",
    "    cb.set_ticklabels(cb_label)\n",
    "    '''"
   ]
  },
  {
   "cell_type": "code",
   "execution_count": null,
   "metadata": {
    "collapsed": false
   },
   "outputs": [],
   "source": [
    "cal_df = acc_df[['YEAR', 'MONTH', 'DAY', 'DRUNK_DR']]\n",
    "sad_year = 2007\n",
    "all_day = cal_df[(cal_df.YEAR==sad_year) & (cal_df.MONTH>=1) \n",
    "                   & (cal_df.MONTH<=12) & (cal_df.DAY >=1) & (cal_df.DAY <=31)][['MONTH','DAY']]\n",
    "drunk_day = cal_df[(cal_df.DRUNK_DR==True) & (cal_df.YEAR==sad_year) & (cal_df.MONTH>=1) \n",
    "                   & (cal_df.MONTH<=12) & (cal_df.DAY >=1) & (cal_df.DAY <=31)][['MONTH','DAY']]\n",
    "sober_day = cal_df[(cal_df.DRUNK_DR==False) & (cal_df.YEAR==sad_year) & (cal_df.MONTH>=1) \n",
    "                   & (cal_df.MONTH<=12) & (cal_df.DAY >=1) & (cal_df.DAY <=31)][['MONTH','DAY']]"
   ]
  },
  {
   "cell_type": "code",
   "execution_count": null,
   "metadata": {
    "collapsed": false
   },
   "outputs": [],
   "source": [
    "fig, (ax1, ax2, ax3) = plt.subplots(nrows=3, ncols=1, figsize=(20,6))\n",
    "plot_cal(ax1, all_day, sad_year)\n",
    "plot_cal(ax2, drunk_day, sad_year)\n",
    "plot_cal(ax3, sober_day, sad_year)\n",
    "\n",
    "plt.tight_layout()\n",
    "plt.savefig('/Users/Wenbo/Desktop/Accident_calendar.pdf', dpi=300)\n",
    "plt.close()"
   ]
  },
  {
   "cell_type": "code",
   "execution_count": null,
   "metadata": {
    "collapsed": true
   },
   "outputs": [],
   "source": []
  }
 ],
 "metadata": {
  "kernelspec": {
   "display_name": "Python 3",
   "language": "python",
   "name": "python3"
  },
  "language_info": {
   "codemirror_mode": {
    "name": "ipython",
    "version": 3
   },
   "file_extension": ".py",
   "mimetype": "text/x-python",
   "name": "python",
   "nbconvert_exporter": "python",
   "pygments_lexer": "ipython3",
   "version": "3.5.1"
  }
 },
 "nbformat": 4,
 "nbformat_minor": 0
}
