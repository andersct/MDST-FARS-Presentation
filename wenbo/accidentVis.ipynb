{
 "cells": [
  {
   "cell_type": "markdown",
   "metadata": {},
   "source": [
    "# <center> Accident table visualization </center>"
   ]
  },
  {
   "cell_type": "markdown",
   "metadata": {},
   "source": [
    "## Introduction\n",
    "\n",
    "In this notebook, we want to visualize the data in the accident table to figure out what factors are most sensitive to the drunk-driver involvement.  \n",
    "\n",
    "## Method\n",
    "In particular, we plot the probability distribution of variables in the accident table. The distributions are plotted as histograms and normalized by the total number of event in each plot. So for each variable, we have two distributions, one for accidents with drunk driver involved and one without drunk driver involved. Then these two distributions are compared and we rank the variables by the difference between the distribution for this variable. "
   ]
  },
  {
   "cell_type": "code",
   "execution_count": 243,
   "metadata": {
    "collapsed": false
   },
   "outputs": [],
   "source": [
    "# import libraries and data.\n",
    "%matplotlib inline\n",
    "import pandas as pd\n",
    "import numpy as np\n",
    "import matplotlib.pyplot as plt\n",
    "\n",
    "# load the data\n",
    "acc_df = pd.read_csv('data/fars_train/accident_train.csv')"
   ]
  },
  {
   "cell_type": "code",
   "execution_count": 244,
   "metadata": {
    "collapsed": true
   },
   "outputs": [],
   "source": [
    "def varDiff(varName):\n",
    "    '''\n",
    "    function to calculate the the difference of distributions between drunk driver involved accident and \n",
    "    sober driver involved accident for a given variable\n",
    "    '''\n",
    "    var_df = acc_df[[varName, 'DRUNK_DR']]\n",
    "    \n",
    "    drunk = var_df[(var_df.DRUNK_DR==True)][varName].values\n",
    "    sober = var_df[(var_df.DRUNK_DR==False)][varName].values\n",
    "\n",
    "    minBin = int(np.floor( min(min(drunk), min(sober))))\n",
    "    maxBin = int(np.ceil( max(max(drunk), max(sober)) ))\n",
    "\n",
    "    bins = range(minBin, maxBin+1)\n",
    "    drunk_hist = np.histogram(drunk, bins=bins, density=True)[0]\n",
    "    sober_hist = np.histogram(sober, bins=bins, density=True)[0]\n",
    "\n",
    "    diff = np.sum(np.abs(drunk_hist - sober_hist))\n",
    "    return diff"
   ]
  }
 ],
 "metadata": {
  "kernelspec": {
   "display_name": "Python 3",
   "language": "python",
   "name": "python3"
  },
  "language_info": {
   "codemirror_mode": {
    "name": "ipython",
    "version": 3
   },
   "file_extension": ".py",
   "mimetype": "text/x-python",
   "name": "python",
   "nbconvert_exporter": "python",
   "pygments_lexer": "ipython3",
   "version": "3.5.1"
  }
 },
 "nbformat": 4,
 "nbformat_minor": 0
}
